{
 "cells": [
  {
   "cell_type": "markdown",
   "source": [
    "# 4주차 과제\n",
    "\n",
    "## SQL 연결 설정"
   ],
   "metadata": {
    "collapsed": false,
    "pycharm": {
     "name": "#%% md\n"
    }
   }
  },
  {
   "cell_type": "code",
   "execution_count": 36,
   "metadata": {
    "collapsed": true
   },
   "outputs": [],
   "source": [
    "import configparser\n",
    "import requests\n",
    "import psycopg2\n",
    "from pandas import DataFrame\n",
    "\n",
    "config = configparser.ConfigParser()\n",
    "config.read('../../config.ini')\n",
    "\n",
    "user = config['REDSHIFT']['USER']\n",
    "password = config['REDSHIFT']['PASSWORD']\n",
    "\n",
    "# Redshift connection 함수\n",
    "def get_Redshift_connection(user, password):\n",
    "    host = \"grepp-data.cduaw970ssvt.ap-northeast-2.redshift.amazonaws.com\"\n",
    "    redshift_user = user\n",
    "    redshift_pass = password\n",
    "    port = 5439\n",
    "    dbname = \"dev\"\n",
    "    conn = psycopg2.connect(\"dbname={dbname} user={user} host={host} password={password} port={port}\".format(\n",
    "        dbname=dbname,\n",
    "        user=redshift_user,\n",
    "        password=redshift_pass,\n",
    "        host=host,\n",
    "        port=port\n",
    "    ))\n",
    "    conn.set_session(autocommit=True)\n",
    "    return conn.cursor()"
   ]
  },
  {
   "cell_type": "markdown",
   "source": [
    "## 과제 1 - colab ETL 버그 개선\n",
    "* [ETL 실습 CoLab 링크](https://colab.research.google.com/drive/1Dis48HuS633KKeFWQOXk17Jjye0u5OR3?usp=sharing#scrollTo=gjDwY95epWDi)\n",
    "* 버그: csv의 header까지 읽어서 데이터를 저장하므로 header를 제외하면 된다\n",
    "\n",
    "### ETL 함수 선언"
   ],
   "metadata": {
    "collapsed": false,
    "pycharm": {
     "name": "#%% md\n"
    }
   }
  },
  {
   "cell_type": "code",
   "execution_count": 28,
   "outputs": [],
   "source": [
    "def extract(url):\n",
    "    f = requests.get(url)\n",
    "    return (f.text)\n",
    "\n",
    "def transform(text):\n",
    "    lines = text.split(\"\\n\")\n",
    "    return lines\n",
    "\n",
    "def load(lines):\n",
    "    cur = get_Redshift_connection(user, password)\n",
    "\n",
    "    sql = 'BEGIN; TRUNCATE leemingyu05.name_gender; INSERT INTO leemingyu05.name_gender VALUES '\n",
    "    insert_sql = []\n",
    "\n",
    "    if len(lines) == 0:\n",
    "        return RuntimeError('lines is empty')\n",
    "\n",
    "    (name, gender) = lines[0].split(\",\")\n",
    "    if name.lower() == 'name' and gender.lower() == 'gender':\n",
    "        lines.pop(0)\n",
    "\n",
    "    for idx, r in enumerate(lines):\n",
    "        if r == '':\n",
    "            continue\n",
    "\n",
    "        (name, gender) = r.split(\",\")\n",
    "        print(name, \"-\", gender)\n",
    "        insert_sql.append(\"('{name}', '{gender}')\".format(name=name, gender=gender))\n",
    "\n",
    "    sql = sql + ', '.join(insert_sql) + '; END;'\n",
    "\n",
    "    cur.execute(sql)\n",
    "\n"
   ],
   "metadata": {
    "collapsed": false,
    "pycharm": {
     "name": "#%%\n"
    }
   }
  },
  {
   "cell_type": "markdown",
   "source": [
    "### ETL 작업 실행"
   ],
   "metadata": {
    "collapsed": false,
    "pycharm": {
     "name": "#%% md\n"
    }
   }
  },
  {
   "cell_type": "code",
   "execution_count": 39,
   "outputs": [
    {
     "name": "stdout",
     "output_type": "stream",
     "text": [
      "Adaleigh - F\n",
      "Amryn - Unisex\n",
      "Apurva - Unisex\n",
      "Aryion - M\n",
      "Alixia - F\n",
      "Alyssarose - F\n",
      "Arvell - M\n",
      "Aibel - M\n",
      "Atiyyah - F\n",
      "Adlie - F\n",
      "Anyely - F\n",
      "Aamoni - F\n",
      "Ahman - M\n",
      "Arlane - F\n",
      "Armoney - F\n",
      "Atzhiry - F\n",
      "Antonette - F\n",
      "Akeelah - F\n",
      "Abdikadir - M\n",
      "Arinze - M\n",
      "Arshaun - M\n",
      "Alexandro - M\n",
      "Ayriauna - F\n",
      "Aqib - M\n",
      "Alleya - F\n",
      "Aavah - F\n",
      "Anesti - Unisex\n",
      "Adalaide - F\n",
      "Analena - F\n",
      "Alaeyah - F\n",
      "Albena - F\n",
      "Aimi - F\n",
      "Adwaith - M\n",
      "Arkady - M\n",
      "Astyn - Unisex\n",
      "Adelee - F\n",
      "Agata - F\n",
      "Alegna - F\n",
      "Altan - M\n",
      "Ahnaleigh - F\n",
      "Algie - Unisex\n",
      "Ashanti - F\n",
      "Aislyn - F\n",
      "Adaleine - F\n",
      "Anthnoy - M\n",
      "Algernon - M\n",
      "Aeryona - F\n",
      "Adrinne - F\n",
      "Addell - F\n",
      "Avril - F\n",
      "Ahni - F\n",
      "Aimon - M\n",
      "Adolpho - M\n",
      "Ahuva - F\n",
      "Aurielle - F\n",
      "Aveana - F\n",
      "Aliyia - F\n",
      "Alesander - M\n",
      "Adnrea - F\n",
      "Anjae - F\n",
      "Alvine - F\n",
      "Adorah - F\n",
      "Adlemi - F\n",
      "Alesi - F\n",
      "Alontae - M\n",
      "Antonny - M\n",
      "Adarah - F\n",
      "Ayreanna - F\n",
      "Antyon - M\n",
      "Andia - F\n",
      "Ashla - F\n",
      "Aspyn - F\n",
      "Antwanett - F\n",
      "Aundreia - F\n",
      "Audella - F\n",
      "Amari - Unisex\n",
      "Arsha - Unisex\n",
      "Aricella - F\n",
      "Adan - M\n",
      "Apasra - F\n",
      "Alaysha - F\n",
      "Anderson - M\n",
      "Aurelius - M\n",
      "Aerial - F\n",
      "Averleigh - F\n",
      "Aslean - F\n",
      "Arniesha - F\n",
      "Asyana - F\n",
      "Annjane - F\n",
      "Amabella - F\n",
      "Austinjohn - M\n",
      "Arloween - F\n",
      "Alula - M\n",
      "Anemone - F\n",
      "Amorina - F\n",
      "Anureet - F\n",
      "Arric - M\n",
      "Antonne - M\n",
      "Alyre - M\n",
      "Annaise - F\n",
      "BEGIN; TRUNCATE leemingyu05.name_gender; INSERT INTO leemingyu05.name_gender VALUES ('Adaleigh', 'F'), ('Amryn', 'Unisex'), ('Apurva', 'Unisex'), ('Aryion', 'M'), ('Alixia', 'F'), ('Alyssarose', 'F'), ('Arvell', 'M'), ('Aibel', 'M'), ('Atiyyah', 'F'), ('Adlie', 'F'), ('Anyely', 'F'), ('Aamoni', 'F'), ('Ahman', 'M'), ('Arlane', 'F'), ('Armoney', 'F'), ('Atzhiry', 'F'), ('Antonette', 'F'), ('Akeelah', 'F'), ('Abdikadir', 'M'), ('Arinze', 'M'), ('Arshaun', 'M'), ('Alexandro', 'M'), ('Ayriauna', 'F'), ('Aqib', 'M'), ('Alleya', 'F'), ('Aavah', 'F'), ('Anesti', 'Unisex'), ('Adalaide', 'F'), ('Analena', 'F'), ('Alaeyah', 'F'), ('Albena', 'F'), ('Aimi', 'F'), ('Adwaith', 'M'), ('Arkady', 'M'), ('Astyn', 'Unisex'), ('Adelee', 'F'), ('Agata', 'F'), ('Alegna', 'F'), ('Altan', 'M'), ('Ahnaleigh', 'F'), ('Algie', 'Unisex'), ('Ashanti', 'F'), ('Aislyn', 'F'), ('Adaleine', 'F'), ('Anthnoy', 'M'), ('Algernon', 'M'), ('Aeryona', 'F'), ('Adrinne', 'F'), ('Addell', 'F'), ('Avril', 'F'), ('Ahni', 'F'), ('Aimon', 'M'), ('Adolpho', 'M'), ('Ahuva', 'F'), ('Aurielle', 'F'), ('Aveana', 'F'), ('Aliyia', 'F'), ('Alesander', 'M'), ('Adnrea', 'F'), ('Anjae', 'F'), ('Alvine', 'F'), ('Adorah', 'F'), ('Adlemi', 'F'), ('Alesi', 'F'), ('Alontae', 'M'), ('Antonny', 'M'), ('Adarah', 'F'), ('Ayreanna', 'F'), ('Antyon', 'M'), ('Andia', 'F'), ('Ashla', 'F'), ('Aspyn', 'F'), ('Antwanett', 'F'), ('Aundreia', 'F'), ('Audella', 'F'), ('Amari', 'Unisex'), ('Arsha', 'Unisex'), ('Aricella', 'F'), ('Adan', 'M'), ('Apasra', 'F'), ('Alaysha', 'F'), ('Anderson', 'M'), ('Aurelius', 'M'), ('Aerial', 'F'), ('Averleigh', 'F'), ('Aslean', 'F'), ('Arniesha', 'F'), ('Asyana', 'F'), ('Annjane', 'F'), ('Amabella', 'F'), ('Austinjohn', 'M'), ('Arloween', 'F'), ('Alula', 'M'), ('Anemone', 'F'), ('Amorina', 'F'), ('Anureet', 'F'), ('Arric', 'M'), ('Antonne', 'M'), ('Alyre', 'M'), ('Annaise', 'F'); END;\n"
     ]
    }
   ],
   "source": [
    "link = \"https://s3-geospatial.s3-us-west-2.amazonaws.com/name_gender.csv\"\n",
    "\n",
    "data = extract(link)\n",
    "\n",
    "lines = transform(data)\n",
    "\n",
    "load(lines)"
   ],
   "metadata": {
    "collapsed": false,
    "pycharm": {
     "name": "#%%\n"
    }
   }
  },
  {
   "cell_type": "markdown",
   "source": [
    "### 결과 확인"
   ],
   "metadata": {
    "collapsed": false,
    "pycharm": {
     "name": "#%% md\n"
    }
   }
  },
  {
   "cell_type": "code",
   "execution_count": 38,
   "outputs": [
    {
     "name": "stdout",
     "output_type": "stream",
     "text": [
      "[('Adaleigh', 'F'), ('Amryn', 'Unisex'), ('Apurva', 'Unisex'), ('Aryion', 'M'), ('Alixia', 'F'), ('Alyssarose', 'F'), ('Arvell', 'M'), ('Aibel', 'M'), ('Atiyyah', 'F'), ('Adlie', 'F'), ('Anyely', 'F'), ('Aamoni', 'F'), ('Ahman', 'M'), ('Arlane', 'F'), ('Armoney', 'F'), ('Atzhiry', 'F'), ('Antonette', 'F'), ('Akeelah', 'F'), ('Abdikadir', 'M'), ('Arinze', 'M'), ('Arshaun', 'M'), ('Alexandro', 'M'), ('Ayriauna', 'F'), ('Aqib', 'M'), ('Alleya', 'F'), ('Aavah', 'F'), ('Anesti', 'Unisex'), ('Adalaide', 'F'), ('Analena', 'F'), ('Alaeyah', 'F'), ('Albena', 'F'), ('Aimi', 'F'), ('Adwaith', 'M'), ('Arkady', 'M'), ('Astyn', 'Unisex'), ('Adelee', 'F'), ('Agata', 'F'), ('Alegna', 'F'), ('Altan', 'M'), ('Ahnaleigh', 'F'), ('Algie', 'Unisex'), ('Ashanti', 'F'), ('Aislyn', 'F'), ('Adaleine', 'F'), ('Anthnoy', 'M'), ('Algernon', 'M'), ('Aeryona', 'F'), ('Adrinne', 'F'), ('Addell', 'F'), ('Avril', 'F'), ('Ahni', 'F'), ('Aimon', 'M'), ('Adolpho', 'M'), ('Ahuva', 'F'), ('Aurielle', 'F'), ('Aveana', 'F'), ('Aliyia', 'F'), ('Alesander', 'M'), ('Adnrea', 'F'), ('Anjae', 'F'), ('Alvine', 'F'), ('Adorah', 'F'), ('Adlemi', 'F'), ('Alesi', 'F'), ('Alontae', 'M'), ('Antonny', 'M'), ('Adarah', 'F'), ('Ayreanna', 'F'), ('Antyon', 'M'), ('Andia', 'F'), ('Ashla', 'F'), ('Aspyn', 'F'), ('Antwanett', 'F'), ('Aundreia', 'F'), ('Audella', 'F'), ('Amari', 'Unisex'), ('Arsha', 'Unisex'), ('Aricella', 'F'), ('Adan', 'M'), ('Apasra', 'F'), ('Alaysha', 'F'), ('Anderson', 'M'), ('Aurelius', 'M'), ('Aerial', 'F'), ('Averleigh', 'F'), ('Aslean', 'F'), ('Arniesha', 'F'), ('Asyana', 'F'), ('Annjane', 'F'), ('Amabella', 'F'), ('Austinjohn', 'M'), ('Arloween', 'F'), ('Alula', 'M'), ('Anemone', 'F'), ('Amorina', 'F'), ('Anureet', 'F'), ('Arric', 'M'), ('Antonne', 'M'), ('Alyre', 'M'), ('Annaise', 'F')]\n"
     ]
    },
    {
     "data": {
      "text/plain": "       name  gender\n0  Adaleigh       F\n1     Amryn  Unisex\n2    Apurva  Unisex\n3    Aryion       M\n4    Alixia       F",
      "text/html": "<div>\n<style scoped>\n    .dataframe tbody tr th:only-of-type {\n        vertical-align: middle;\n    }\n\n    .dataframe tbody tr th {\n        vertical-align: top;\n    }\n\n    .dataframe thead th {\n        text-align: right;\n    }\n</style>\n<table border=\"1\" class=\"dataframe\">\n  <thead>\n    <tr style=\"text-align: right;\">\n      <th></th>\n      <th>name</th>\n      <th>gender</th>\n    </tr>\n  </thead>\n  <tbody>\n    <tr>\n      <th>0</th>\n      <td>Adaleigh</td>\n      <td>F</td>\n    </tr>\n    <tr>\n      <th>1</th>\n      <td>Amryn</td>\n      <td>Unisex</td>\n    </tr>\n    <tr>\n      <th>2</th>\n      <td>Apurva</td>\n      <td>Unisex</td>\n    </tr>\n    <tr>\n      <th>3</th>\n      <td>Aryion</td>\n      <td>M</td>\n    </tr>\n    <tr>\n      <th>4</th>\n      <td>Alixia</td>\n      <td>F</td>\n    </tr>\n  </tbody>\n</table>\n</div>"
     },
     "execution_count": 38,
     "metadata": {},
     "output_type": "execute_result"
    }
   ],
   "source": [
    "cur = get_Redshift_connection(user, password)\n",
    "cur.execute(\"select * from leemingyu05.name_gender\")\n",
    "result = cur.fetchall()\n",
    "\n",
    "print(result)\n",
    "\n",
    "df = DataFrame(result, columns=['name', 'gender'])\n",
    "df.head()\n"
   ],
   "metadata": {
    "collapsed": false,
    "pycharm": {
     "name": "#%%\n"
    }
   }
  }
 ],
 "metadata": {
  "kernelspec": {
   "display_name": "Python 3",
   "language": "python",
   "name": "python3"
  },
  "language_info": {
   "codemirror_mode": {
    "name": "ipython",
    "version": 2
   },
   "file_extension": ".py",
   "mimetype": "text/x-python",
   "name": "python",
   "nbconvert_exporter": "python",
   "pygments_lexer": "ipython2",
   "version": "2.7.6"
  }
 },
 "nbformat": 4,
 "nbformat_minor": 0
}